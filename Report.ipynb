{
 "cells": [
  {
   "cell_type": "markdown",
   "metadata": {},
   "source": [
    "## 1\tINTRODUCTION\n",
    "### 1.1\tBACKGROUND\n",
    "Two of the most populated cities in Canada, apart from Toronto, are Montreal and Vancouver. Both cities are very multicultural, have hosted the Olympics, and are both homes to large universities, industry, and world-class attractions. However, located at opposite sides of this vast country they have drastically different cultural identities and local attractions. Montreal is Canada’s oldest established city and was originally founded in 1642 and boasts a large francophone community. Vancouver, in contrast, was founded much later in 1867 and hosts a large population of immigrants from eastern Asia. This difference in ethnographic make-up can greatly influence available cuisines and other amenities within a city. Locations of resources within a city can be a huge factor for visitors when selecting which city to visit, and also for locals choosing where in the city to live.\n",
    "### 1.2\tPROBLEM\n",
    "Given how culturally and historically different Montreal and Vancouver are, it would be interesting to look at the similarities and differences between these two cities based on popular amenities and rental prices. Foursquare data can be helpful in this regard, to look at trending locations within these cities and compare neighbourhoods within each city as well as between Montreal and Vancouver.\n",
    "### 1.3\tAUDIENCE\n",
    "This study can potentially help people in determining which city to visit or live in based on their interests. \n",
    "## 2\tDATA ACQUISITION AND CLEANING\n",
    "### 2.1\tDATA SOURCES\n",
    "Montreal is divided into 19 neighbourhoods and the dataset was found here: https://en.wikipedia.org/wiki/Montreal. This dataset included census data from 2016 which reported population, average monthly rent, and area of each neighbourhood. \n",
    "Unfortunately, no equivalent table existed for Vancouver. The data was then sourced from a combination of sources. Neighbourhood designations for Vancouver were taken from: https://en.wikipedia.org/wiki/List_of_neighbourhoods_in_Vancouver. Other data including area, population and average monthly rent were taken from https://vancouver.ca/news-calendar/areas-of-the-city.aspx. Data was manually compiled from individual pdfs corresponding to 2016 census data in new table. The table was saved in .csv format and then converted into a pandas dataframe.\n",
    "Datasets were chosen to represent only the metropolitan boundaries as opposed to the greater Montreal area or the greater Vancouver area which comprise the surrounding citys and towns. The 2016 census was the last available source of population and cost of living values as the long-form national census is only performed every 5 years. \n",
    "### 2.2\tDATA CLEANING\n",
    "The geographical locations of the neighbourhoods in both Vancouver and Montreal were sourced using geopy and the latitude and longitude positions were added to the datasets. The foursquare API was used to return the top 100 visited venues within each neighbourhood and then clustered according to the kmeans algorithm.\n"
   ]
  },
  {
   "cell_type": "code",
   "execution_count": null,
   "metadata": {},
   "outputs": [],
   "source": []
  }
 ],
 "metadata": {
  "kernelspec": {
   "display_name": "Python 3",
   "language": "python",
   "name": "python3"
  },
  "language_info": {
   "codemirror_mode": {
    "name": "ipython",
    "version": 3
   },
   "file_extension": ".py",
   "mimetype": "text/x-python",
   "name": "python",
   "nbconvert_exporter": "python",
   "pygments_lexer": "ipython3",
   "version": "3.8.5"
  }
 },
 "nbformat": 4,
 "nbformat_minor": 4
}
